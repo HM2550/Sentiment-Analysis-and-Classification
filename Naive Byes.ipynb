{
 "cells": [
  {
   "cell_type": "code",
   "execution_count": 1,
   "id": "7ad355e3",
   "metadata": {},
   "outputs": [],
   "source": [
    "import pandas as pd\n",
    "from sklearn.model_selection import train_test_split\n",
    "from sklearn.feature_extraction.text import CountVectorizer\n",
    "from sklearn.naive_bayes import MultinomialNB\n",
    "import pickle\n",
    "# Load the dataset\n",
    "df = pd.read_csv('IMDB Dataset.csv')\n",
    "df['sentiment'] = df['sentiment'].replace({'positive': 1, 'negative': 0})\n",
    "# Split the dataset into training and test sets\n",
    "X_train, X_test, y_train, y_test = train_test_split(df['review'], df['sentiment'], random_state=0)\n",
    "\n",
    "# Preprocess the text data\n",
    "vectorizer = CountVectorizer(stop_words='english')\n",
    "X_train = vectorizer.fit_transform(X_train)\n",
    "temp=X_test\n",
    "X_test = vectorizer.transform(X_test)\n",
    "\n",
    "# Train the Naive Bayes classifier\n",
    "nb = MultinomialNB()\n",
    "nb.fit(X_train,y_train)\n",
    "nb.score(X_test,y_test)\n",
    "file=open('naiveByes.sav','wb')\n",
    "pickle.dump(nb,file)\n",
    "file.close()\n"
   ]
  },
  {
   "cell_type": "code",
   "execution_count": 2,
   "id": "fce7ce1c",
   "metadata": {},
   "outputs": [
    {
     "data": {
      "text/plain": [
       "0.85504"
      ]
     },
     "execution_count": 2,
     "metadata": {},
     "output_type": "execute_result"
    }
   ],
   "source": [
    "model=pickle.load(open('naiveByes.sav','rb'))\n",
    "model.score(X_test,y_test)"
   ]
  },
  {
   "cell_type": "code",
   "execution_count": 3,
   "id": "dcd98aac",
   "metadata": {},
   "outputs": [
    {
     "name": "stdout",
     "output_type": "stream",
     "text": [
      "                                              review  sentiment\n",
      "0  I always wrote this series off as being a comp...          0\n",
      "1  1st watched 12/7/2002 - 3 out of 10(Dir-Steve ...          0\n",
      "2  This movie was so poorly written and directed ...          0\n",
      "3  The most interesting thing about Miryang (Secr...          1\n",
      "4  when i first read about \"berlin am meer\" i did...          0\n",
      "5  I saw this film on September 1st, 2005 in Indi...          1\n",
      "6  I saw a screening of this movie last night. I ...          0\n",
      "7  William Hurt may not be an American matinee id...          1\n",
      "8  IT IS A PIECE OF CRAP! not funny at all. durin...          0\n",
      "9  I'M BOUT IT(1997)<br /><br />Developed & publi...          0\n"
     ]
    }
   ],
   "source": [
    "import pandas as pd\n",
    "from sklearn import metrics\n",
    "from sklearn.feature_extraction.text import CountVectorizer\n",
    "from sklearn.svm import SVC\n",
    "\n",
    "    \n",
    "\n",
    "# Load the test data\n",
    "test_df = pd.read_csv(\"dataset1.csv\")\n",
    "test_df.columns = ['review', 'sentiment']\n",
    "print(test_df.head(10))"
   ]
  },
  {
   "cell_type": "code",
   "execution_count": 4,
   "id": "1478e843",
   "metadata": {},
   "outputs": [
    {
     "data": {
      "text/plain": [
       "0.8988"
      ]
     },
     "execution_count": 4,
     "metadata": {},
     "output_type": "execute_result"
    }
   ],
   "source": [
    "X_new=vectorizer.transform(test_df['review'])\n",
    "y_new=test_df['sentiment']\n",
    "y_pred=model.predict(X_new)\n",
    "model.score(X_new,y_new)"
   ]
  },
  {
   "cell_type": "code",
   "execution_count": 5,
   "id": "7b3ba021",
   "metadata": {},
   "outputs": [
    {
     "name": "stdout",
     "output_type": "stream",
     "text": [
      "Confusion Matrix : \n",
      "[[2306  189]\n",
      " [ 317 2188]]\n",
      "Confusion matrix:\n",
      "[[2306  189]\n",
      " [ 317 2188]]\n"
     ]
    },
    {
     "data": {
      "image/png": "[encoded data removed]",
      "text/plain": [
       "<Figure size 640x480 with 2 Axes>"
      ]
     },
     "metadata": {},
     "output_type": "display_data"
    }
   ],
   "source": [
    "import pandas as pd\n",
    "import seaborn as sns\n",
    "import matplotlib.pyplot as plt\n",
    "\n",
    "# Print the confusion matrix\n",
    "print(\"Confusion Matrix : \")\n",
    "print(metrics.confusion_matrix(test_df['sentiment'], y_pred))\n",
    "cm = metrics.confusion_matrix(y_new, y_pred)\n",
    "print(f'Confusion matrix:\\n{cm}')\n",
    "\n",
    "sns.heatmap(cm, annot=True, cmap='Blues', fmt='g')\n",
    "plt.xlabel('Predicted')\n",
    "plt.ylabel('Actual')\n",
    "plt.title('Confusion Matrix')\n",
    "plt.show()"
   ]
  },
  {
   "cell_type": "code",
   "execution_count": 6,
   "id": "38050387",
   "metadata": {},
   "outputs": [
    {
     "name": "stdout",
     "output_type": "stream",
     "text": [
      "              precision    recall  f1-score   support\n",
      "\n",
      "           0       0.88      0.92      0.90      2495\n",
      "           1       0.92      0.87      0.90      2505\n",
      "\n",
      "    accuracy                           0.90      5000\n",
      "   macro avg       0.90      0.90      0.90      5000\n",
      "weighted avg       0.90      0.90      0.90      5000\n",
      "\n"
     ]
    }
   ],
   "source": [
    "print(metrics.classification_report(test_df['sentiment'], y_pred))"
   ]
  }
 ],
 "metadata": {
  "kernelspec": {
   "display_name": "Python 3 (ipykernel)",
   "language": "python",
   "name": "python3"
  },
  "language_info": {
   "codemirror_mode": {
    "name": "ipython",
    "version": 3
   },
   "file_extension": ".py",
   "mimetype": "text/x-python",
   "name": "python",
   "nbconvert_exporter": "python",
   "pygments_lexer": "ipython3",
   "version": "3.11.3"
  }
 },
 "nbformat": 4,
 "nbformat_minor": 5
}
